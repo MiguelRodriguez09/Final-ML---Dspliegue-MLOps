{
 "cells": [
  {
   "cell_type": "markdown",
   "id": "92244113",
   "metadata": {},
   "source": [
    "# aaaa"
   ]
  }
 ],
 "metadata": {
  "language_info": {
   "name": "python"
  }
 },
 "nbformat": 4,
 "nbformat_minor": 5
}
